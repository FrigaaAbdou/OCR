{
 "cells": [
  {
   "cell_type": "code",
   "execution_count": 25,
   "metadata": {},
   "outputs": [
    {
     "name": "stdout",
     "output_type": "stream",
     "text": [
      "Extracted Text:\n",
      "‎Ea‏ = الجمهورية الجزائرية الديمقراطية الشعبية\n",
      "120807627\n",
      "سلطة الإصدار: دالي ابراهيم-الجزائر\n",
      "\n",
      "‏تاريخ الإصدار: 2021.06.11\n",
      "تاريخ الإنتهاء: 2026.06.10\n",
      "\n",
      "‏رقم التعريف الوطني: 100060841121290003\n",
      "اللقب: ‏ فريقع\n",
      "\n",
      "‏الإسم: عبد الرحمان\n",
      "\n",
      "‏تاريخ الميلاد: 2006.11.04 | الجنس: 483 ‎Rh: A+‏\n",
      "\n",
      "\n"
     ]
    }
   ],
   "source": [
    "import os\n",
    "os.environ['TESSDATA_PREFIX'] = '/opt/homebrew/share/tessdata/'\n",
    "\n",
    "from PIL import Image\n",
    "import pytesseract\n",
    "\n",
    "# Path to your mixed-language image\n",
    "image_path = 'img.jpg'\n",
    "\n",
    "# Open the image using Pillow\n",
    "img = Image.open(image_path)\n",
    "\n",
    "# Perform OCR specifying both English and Arabic\n",
    "extracted_text = pytesseract.image_to_string(img, lang='eng+ara')\n",
    "\n",
    "print(\"Extracted Text:\")\n",
    "print(extracted_text)"
   ]
  },
  {
   "cell_type": "code",
   "execution_count": 26,
   "metadata": {},
   "outputs": [
    {
     "name": "stdout",
     "output_type": "stream",
     "text": [
      "Extracted Text:\n",
      "ا ‎١‏ !4 لبا - الك\n",
      "\n",
      "0 الجمهورية الجزائرية الديمقراطية الشعبية\n",
      "\n",
      "1200767\n",
      "\n",
      "سلطة الإصدار: دالي ابراهيم-الجزائر 1\n",
      "تاريخ الإصدار: 2021.06.11\n",
      "تاريخ الإنتهاء: 2026.06.10\n",
      "\n",
      "رقم التعريف الوطني: 100060841121290003\n",
      "اللقب: ‏ فريقع\n",
      "\n",
      "الإسم: عبد الرحمان\n",
      "\n",
      "تاريخ الميلاد: 2006.11.04 | الجنس: ذكر +ْم :8\n",
      "\n",
      "\n"
     ]
    }
   ],
   "source": [
    "import os\n",
    "os.environ['TESSDATA_PREFIX'] = '/opt/homebrew/share/tessdata/'\n",
    "\n",
    "from PIL import Image\n",
    "import pytesseract\n",
    "\n",
    "# Path to your mixed-language image\n",
    "image_path = 'img.jpg'\n",
    "\n",
    "# Open the image using Pillow\n",
    "img = Image.open(image_path)\n",
    "\n",
    "# Perform OCR specifying both English and Arabic\n",
    "extracted_text = pytesseract.image_to_string(img, lang='ara')\n",
    "\n",
    "print(\"Extracted Text:\")\n",
    "print(extracted_text)"
   ]
  },
  {
   "cell_type": "code",
   "execution_count": 27,
   "metadata": {},
   "outputs": [
    {
     "name": "stdout",
     "output_type": "stream",
     "text": [
      "Extracted Text:\n",
      "Nom:FRIGAA\n",
      "\n",
      "Prenom(s)ABDERRAHMANE\n",
      "\n",
      "REPUBLIQUE ALGERIENNE DEMOCRATIQUE ET POPULAIRE\n",
      "\n",
      "IDDZA1208076271<<<<<<<<<<<<<<<\n",
      "0611040M260610/7DZA<<<<<<<<<<<6\n",
      "FRIGAA<<ABDERRAHMANE<<<<<<<<<<\n",
      "\n"
     ]
    }
   ],
   "source": [
    "import os\n",
    "from PIL import Image\n",
    "import pytesseract\n",
    "import arabic_reshaper\n",
    "from bidi.algorithm import get_display\n",
    "\n",
    "# Set TESSDATA_PREFIX so Tesseract can find the language files\n",
    "os.environ['TESSDATA_PREFIX'] = '/opt/homebrew/share/tessdata/'\n",
    "\n",
    "# 1. Load and preprocess the image (convert to grayscale)\n",
    "img = Image.open('image.png').convert('L')\n",
    "\n",
    "# 2. Perform OCR using Tesseract with Arabic language\n",
    "config = '--oem 3 --psm 6'\n",
    "raw_text = pytesseract.image_to_string(img, lang='ara', config=config)\n",
    "\n",
    "# 3. Reshape the Arabic text (without the reshape_all parameter)\n",
    "reshaped_text = arabic_reshaper.reshape(raw_text)\n",
    "display_text = get_display(reshaped_text)\n",
    "\n",
    "# 4. Print the final text\n",
    "print(\"Final OCR Result:\")\n",
    "print(display_text)"
   ]
  },
  {
   "cell_type": "code",
   "execution_count": 3,
   "metadata": {},
   "outputs": [
    {
     "name": "stdout",
     "output_type": "stream",
     "text": [
      "OCR result written to ocr_output.html. Open this file in a browser to view the properly rendered text.\n"
     ]
    }
   ],
   "source": [
    "import os\n",
    "from PIL import Image\n",
    "import pytesseract\n",
    "import arabic_reshaper\n",
    "from bidi.algorithm import get_display\n",
    "\n",
    "# Set TESSDATA_PREFIX so Tesseract can find the language files\n",
    "os.environ['TESSDATA_PREFIX'] = '/opt/homebrew/share/tessdata/'\n",
    "\n",
    "# 1. Load and preprocess the image (convert to grayscale)\n",
    "img = Image.open('image.png').convert('L')\n",
    "\n",
    "# 2. Perform OCR using Tesseract with Arabic language\n",
    "config = '--oem 3 --psm 6'\n",
    "raw_text = pytesseract.image_to_string(img, lang='ara', config=config)\n",
    "\n",
    "# 3. Reshape the Arabic text so characters connect properly and adjust text direction (RTL)\n",
    "reshaped_text = arabic_reshaper.reshape(raw_text)\n",
    "display_text = get_display(reshaped_text)\n",
    "\n",
    "# 4. Write the output to an HTML file for proper RTL rendering\n",
    "html_content = f\"\"\"<!DOCTYPE html>\n",
    "<html lang=\"ar\">\n",
    "<head>\n",
    "  <meta charset=\"UTF-8\">\n",
    "  <title>OCR Result</title>\n",
    "  <style>\n",
    "    body {{\n",
    "      direction: rtl;\n",
    "      text-align: right;\n",
    "      font-family: Arial, sans-serif;\n",
    "      white-space: pre-wrap;\n",
    "      font-size: 1.2em;\n",
    "    }}\n",
    "  </style>\n",
    "</head>\n",
    "<body>\n",
    "  <h1>OCR Result</h1>\n",
    "  <pre>{display_text}</pre>\n",
    "</body>\n",
    "</html>\n",
    "\"\"\"\n",
    "\n",
    "with open(\"ocr_output.html\", \"w\", encoding=\"utf-8\") as f:\n",
    "    f.write(html_content)\n",
    "\n",
    "print(\"OCR result written to ocr_output.html. Open this file in a browser to view the properly rendered text.\")"
   ]
  }
 ],
 "metadata": {
  "kernelspec": {
   "display_name": "Python 3",
   "language": "python",
   "name": "python3"
  },
  "language_info": {
   "codemirror_mode": {
    "name": "ipython",
    "version": 3
   },
   "file_extension": ".py",
   "mimetype": "text/x-python",
   "name": "python",
   "nbconvert_exporter": "python",
   "pygments_lexer": "ipython3",
   "version": "3.12.7"
  }
 },
 "nbformat": 4,
 "nbformat_minor": 2
}
